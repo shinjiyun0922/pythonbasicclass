{
  "nbformat": 4,
  "nbformat_minor": 0,
  "metadata": {
    "colab": {
      "name": "Untitled2.ipynb",
      "provenance": [],
      "authorship_tag": "ABX9TyOmS98fG1u7+/pPSDJfZaoH",
      "include_colab_link": true
    },
    "kernelspec": {
      "name": "python3",
      "display_name": "Python 3"
    },
    "language_info": {
      "name": "python"
    }
  },
  "cells": [
    {
      "cell_type": "markdown",
      "metadata": {
        "id": "view-in-github",
        "colab_type": "text"
      },
      "source": [
        "<a href=\"https://colab.research.google.com/github/shinjiyun0922/pythonbasicclass/blob/main/Untitled2.ipynb\" target=\"_parent\"><img src=\"https://colab.research.google.com/assets/colab-badge.svg\" alt=\"Open In Colab\"/></a>"
      ]
    },
    {
      "cell_type": "code",
      "execution_count": 3,
      "metadata": {
        "colab": {
          "base_uri": "https://localhost:8080/"
        },
        "id": "NdqGmbngjjFC",
        "outputId": "02ed81b4-ab91-49cc-f841-e3eecc3d64e0"
      },
      "outputs": [
        {
          "output_type": "stream",
          "name": "stdout",
          "text": [
            "hello\n"
          ]
        }
      ],
      "source": [
        "print(\"hello\")"
      ]
    },
    {
      "cell_type": "code",
      "source": [
        "print('\"hello\"')"
      ],
      "metadata": {
        "colab": {
          "base_uri": "https://localhost:8080/"
        },
        "id": "c031z0u5j25J",
        "outputId": "6962aec8-3ec3-47f7-c09d-cb5726328699"
      },
      "execution_count": 5,
      "outputs": [
        {
          "output_type": "stream",
          "name": "stdout",
          "text": [
            "\"hello\"\n"
          ]
        }
      ]
    },
    {
      "cell_type": "code",
      "source": [
        "print (\"11`n111\")"
      ],
      "metadata": {
        "colab": {
          "base_uri": "https://localhost:8080/"
        },
        "id": "e-DjOF2lkEJh",
        "outputId": "d3c49c1b-5c8d-4440-ef71-527894f8b8de"
      },
      "execution_count": 6,
      "outputs": [
        {
          "output_type": "stream",
          "name": "stdout",
          "text": [
            "11`n111\n"
          ]
        }
      ]
    },
    {
      "cell_type": "code",
      "source": [
        "print (\"예쁘장한 쥰니\")"
      ],
      "metadata": {
        "colab": {
          "base_uri": "https://localhost:8080/"
        },
        "id": "xYBotcB0k08G",
        "outputId": "d6f28c95-aa58-4993-8e94-b4955052d1d5"
      },
      "execution_count": 7,
      "outputs": [
        {
          "output_type": "stream",
          "name": "stdout",
          "text": [
            "예쁘장한 쥰니\n"
          ]
        }
      ]
    },
    {
      "cell_type": "code",
      "source": [
        ""
      ],
      "metadata": {
        "id": "9pshWKlbkgcb"
      },
      "execution_count": 19,
      "outputs": []
    },
    {
      "cell_type": "code",
      "source": [
        "print ('010 8893 0559')"
      ],
      "metadata": {
        "colab": {
          "base_uri": "https://localhost:8080/"
        },
        "id": "jKZXv24TlBcE",
        "outputId": "3cdbef1b-7da7-4c87-881e-5983f9036088"
      },
      "execution_count": 9,
      "outputs": [
        {
          "output_type": "stream",
          "name": "stdout",
          "text": [
            "010 8893 0559\n"
          ]
        }
      ]
    },
    {
      "cell_type": "code",
      "source": [
        "print(\"재미있는\",\"파이썬\")"
      ],
      "metadata": {
        "colab": {
          "base_uri": "https://localhost:8080/"
        },
        "id": "6JlfrdkzlIw8",
        "outputId": "b11a60be-2b6f-4704-cbc3-e1e8e304c403"
      },
      "execution_count": 12,
      "outputs": [
        {
          "output_type": "stream",
          "name": "stdout",
          "text": [
            "재미있는 파이썬\n"
          ]
        }
      ]
    },
    {
      "cell_type": "code",
      "source": [
        "print ('interesting', 'python', sep=',')"
      ],
      "metadata": {
        "colab": {
          "base_uri": "https://localhost:8080/"
        },
        "id": "Q8Yj2OfYmIhe",
        "outputId": "ea100ffa-20ac-40aa-b3f9-8616b1cde253"
      },
      "execution_count": 13,
      "outputs": [
        {
          "output_type": "stream",
          "name": "stdout",
          "text": [
            "interesting,python\n"
          ]
        }
      ]
    },
    {
      "cell_type": "code",
      "source": [
        "print (\" annoying\",\"python\", sep='+')"
      ],
      "metadata": {
        "colab": {
          "base_uri": "https://localhost:8080/"
        },
        "id": "X7FXQE2omVpy",
        "outputId": "1ad42087-a1d4-438c-bb24-b6068600e662"
      },
      "execution_count": 14,
      "outputs": [
        {
          "output_type": "stream",
          "name": "stdout",
          "text": [
            " annoying+python\n"
          ]
        }
      ]
    },
    {
      "cell_type": "code",
      "source": [
        "print (\"영화 타이타닉\")\n",
        "print ('평점')\n",
        "print ('5점')"
      ],
      "metadata": {
        "colab": {
          "base_uri": "https://localhost:8080/"
        },
        "id": "RQtrR2bFmfmw",
        "outputId": "4e0cbf97-ab5a-46f8-f63c-ea9ce27d3bda"
      },
      "execution_count": 16,
      "outputs": [
        {
          "output_type": "stream",
          "name": "stdout",
          "text": [
            "영화 타이타닉\n",
            "평점\n",
            "5점\n"
          ]
        }
      ]
    },
    {
      "cell_type": "code",
      "source": [
        "print ('영화 타이타닉')\n",
        "print ('평점', end='')\n",
        "print ('5point')"
      ],
      "metadata": {
        "colab": {
          "base_uri": "https://localhost:8080/"
        },
        "id": "jOwwjFh_m9rx",
        "outputId": "2334de5c-fea7-44fb-df9e-db648182b608"
      },
      "execution_count": 18,
      "outputs": [
        {
          "output_type": "stream",
          "name": "stdout",
          "text": [
            "영화 타이타닉\n",
            "평점5point\n"
          ]
        }
      ]
    },
    {
      "cell_type": "code",
      "source": [
        "print('프린트 함수가가 제일 만만하군')"
      ],
      "metadata": {
        "colab": {
          "base_uri": "https://localhost:8080/"
        },
        "id": "Jl-rL1FMoQqt",
        "outputId": "9cedfc7e-70cd-4ee8-b723-d4f4adaa4c1e"
      },
      "execution_count": 20,
      "outputs": [
        {
          "output_type": "stream",
          "name": "stdout",
          "text": [
            "프린트 함수가가 제일 만만하군\n"
          ]
        }
      ]
    },
    {
      "cell_type": "code",
      "source": [
        "print ('타이타닉')\n",
        "print ('평점',end=':')\n",
        "print (\"5\")"
      ],
      "metadata": {
        "colab": {
          "base_uri": "https://localhost:8080/"
        },
        "id": "sxgUC31AnOse",
        "outputId": "6a92205b-dc85-499c-f519-4e6cc22250ab"
      },
      "execution_count": 19,
      "outputs": [
        {
          "output_type": "stream",
          "name": "stdout",
          "text": [
            "타이타닉\n",
            "평점:5\n"
          ]
        }
      ]
    },
    {
      "cell_type": "code",
      "source": [
        "print (\"*\")\n",
        "print (\"**\")\n",
        "print (\"***\")"
      ],
      "metadata": {
        "colab": {
          "base_uri": "https://localhost:8080/"
        },
        "id": "rUQqQBYLoczz",
        "outputId": "a542961e-3452-4caf-c652-f76d85e45b32"
      },
      "execution_count": 23,
      "outputs": [
        {
          "output_type": "stream",
          "name": "stdout",
          "text": [
            "*\n",
            "**\n",
            "***\n"
          ]
        }
      ]
    },
    {
      "cell_type": "code",
      "source": [
        "print ('%d' % 10) # %d 정수 10진수 자리표시자자 \n",
        "print ('%o' % 10) # %o 정수수 8진수 자리표시자자 \n",
        "print ('%x' % 10) # 정수수 16진수 자리표시자자 \n",
        "print ('%f' % 3.14) # 실수\n"
      ],
      "metadata": {
        "colab": {
          "base_uri": "https://localhost:8080/"
        },
        "id": "bK7f3Gcdomqf",
        "outputId": "f28d07d4-4cce-4e5d-f8bb-6362fa73dc76"
      },
      "execution_count": 33,
      "outputs": [
        {
          "output_type": "stream",
          "name": "stdout",
          "text": [
            "10\n",
            "12\n",
            "a\n",
            "3.140000\n"
          ]
        }
      ]
    },
    {
      "cell_type": "code",
      "source": [
        "print ('%s'% 3.15) # s- 뭐든지 % stream would be useful "
      ],
      "metadata": {
        "colab": {
          "base_uri": "https://localhost:8080/"
        },
        "id": "yBIB2IdwqZE7",
        "outputId": "4be0fed2-3388-4f6d-9a25-bb3d7e4bcb9e"
      },
      "execution_count": 34,
      "outputs": [
        {
          "output_type": "stream",
          "name": "stdout",
          "text": [
            "3.15\n"
          ]
        }
      ]
    },
    {
      "cell_type": "code",
      "source": [
        "print ('%d' % 1)\n",
        "print ('%5d' %1) #다섯칸을을 확보하고 오른쪽에 출력\n",
        "print ('%5d'% 11)# "
      ],
      "metadata": {
        "colab": {
          "base_uri": "https://localhost:8080/"
        },
        "id": "CVIDhfrOtfv7",
        "outputId": "1fa80237-631a-4def-e7e3-a24df6f605c5"
      },
      "execution_count": 39,
      "outputs": [
        {
          "output_type": "stream",
          "name": "stdout",
          "text": [
            "1\n",
            "    1\n",
            "   11\n"
          ]
        }
      ]
    },
    {
      "cell_type": "code",
      "source": [
        "print ('%-5d' % 1) # 다섯칸을 확보하고 왼쪽에 출력력 "
      ],
      "metadata": {
        "colab": {
          "base_uri": "https://localhost:8080/"
        },
        "id": "oyXWg0cMt4fn",
        "outputId": "5ec5c568-8c71-4ce2-ba23-dd2f409a2fce"
      },
      "execution_count": 40,
      "outputs": [
        {
          "output_type": "stream",
          "name": "stdout",
          "text": [
            "1    \n"
          ]
        }
      ]
    },
    {
      "cell_type": "code",
      "source": [
        "print ('%5.2f' %3.14) #다섯칸을을 확보하고고 소수 2자리까지지 오른쪽에에 출력력 \n",
        "print ('%5.1f'%3.141592 )"
      ],
      "metadata": {
        "colab": {
          "base_uri": "https://localhost:8080/"
        },
        "id": "lUWmr0KuuIq5",
        "outputId": "ec6e5462-1ce7-48dc-f491-3552e72b67eb"
      },
      "execution_count": 41,
      "outputs": [
        {
          "output_type": "stream",
          "name": "stdout",
          "text": [
            " 3.14\n",
            "  3.1\n"
          ]
        }
      ]
    },
    {
      "cell_type": "code",
      "source": [
        "print ('%.2f' % 3.14) #소수 2자리까지 실수출력"
      ],
      "metadata": {
        "colab": {
          "base_uri": "https://localhost:8080/"
        },
        "id": "QNC_3v7RuqeX",
        "outputId": "7679b37f-442d-496b-ec3c-e6bc0e7d05e8"
      },
      "execution_count": 42,
      "outputs": [
        {
          "output_type": "stream",
          "name": "stdout",
          "text": [
            "3.14\n"
          ]
        }
      ]
    },
    {
      "cell_type": "code",
      "source": [
        "from typing_extensions import final\n",
        "# 기본출력\n",
        "a= '학생'\n",
        "print (a, '입니다')\n",
        "\n",
        "# % 연산자 출력 방법\n",
        "print ('%s 입니다.' % a)\n",
        "\n",
        "# format () 출력 방법 \n",
        "print ('{} 입니다.'. format (a))\n",
        "\n",
        "# f"
      ],
      "metadata": {
        "colab": {
          "base_uri": "https://localhost:8080/"
        },
        "id": "eunTD9ixuqk2",
        "outputId": "f9d6a744-49a5-4729-e26f-8db61b51e5f4"
      },
      "execution_count": 52,
      "outputs": [
        {
          "output_type": "stream",
          "name": "stdout",
          "text": [
            "학생 입니다\n",
            "학생 입니다.\n",
            "학생 입니다.\n"
          ]
        }
      ]
    },
    {
      "cell_type": "code",
      "source": [
        "age = 25 \n",
        "print ( f '내년엔 { age+1}살이 됩니다.')"
      ],
      "metadata": {
        "colab": {
          "base_uri": "https://localhost:8080/",
          "height": 130
        },
        "id": "4F0VWjBjy-SZ",
        "outputId": "2e88bc3c-15d7-411b-9a9d-bb609a7c9dbe"
      },
      "execution_count": 62,
      "outputs": [
        {
          "output_type": "error",
          "ename": "SyntaxError",
          "evalue": "ignored",
          "traceback": [
            "\u001b[0;36m  File \u001b[0;32m\"<ipython-input-62-b7ebd0826184>\"\u001b[0;36m, line \u001b[0;32m2\u001b[0m\n\u001b[0;31m    print ( f '내년엔 { age+1}살이 됩니다.')\u001b[0m\n\u001b[0m                                  ^\u001b[0m\n\u001b[0;31mSyntaxError\u001b[0m\u001b[0;31m:\u001b[0m invalid syntax\n"
          ]
        }
      ]
    },
    {
      "cell_type": "code",
      "source": [
        "# 표준입력\n",
        "a= input ()\n",
        "print (a)"
      ],
      "metadata": {
        "colab": {
          "base_uri": "https://localhost:8080/"
        },
        "id": "Nzdb6XsJzTAt",
        "outputId": "74043223-59a1-4711-e5c0-1b7f29f91f41"
      },
      "execution_count": 63,
      "outputs": [
        {
          "output_type": "stream",
          "name": "stdout",
          "text": [
            "as\n",
            "as\n"
          ]
        }
      ]
    },
    {
      "cell_type": "code",
      "source": [
        "n= input ('정수를 입력하세요:')\n",
        "print (n)"
      ],
      "metadata": {
        "colab": {
          "base_uri": "https://localhost:8080/"
        },
        "id": "Thx6-v9ZzlMl",
        "outputId": "33016b2c-5f12-4cc0-ba9b-4612ce82a8eb"
      },
      "execution_count": 64,
      "outputs": [
        {
          "output_type": "stream",
          "name": "stdout",
          "text": [
            "정수를 입력하세요:3\n",
            "3\n"
          ]
        }
      ]
    },
    {
      "cell_type": "code",
      "source": [
        "# f- strings \n",
        "\n",
        "who = 'you'\n",
        "now= 'happy'\n",
        "\n",
        "print( f '{who} make me {how}')"
      ],
      "metadata": {
        "colab": {
          "base_uri": "https://localhost:8080/",
          "height": 130
        },
        "id": "9c9NU2-qyHFS",
        "outputId": "aa5968e3-5195-4584-9c3f-7790cdf5e094"
      },
      "execution_count": 61,
      "outputs": [
        {
          "output_type": "error",
          "ename": "SyntaxError",
          "evalue": "ignored",
          "traceback": [
            "\u001b[0;36m  File \u001b[0;32m\"<ipython-input-61-109ff1175a62>\"\u001b[0;36m, line \u001b[0;32m6\u001b[0m\n\u001b[0;31m    print( folmula '{who} make me {how}')\u001b[0m\n\u001b[0m                                       ^\u001b[0m\n\u001b[0;31mSyntaxError\u001b[0m\u001b[0;31m:\u001b[0m invalid syntax\n"
          ]
        }
      ]
    },
    {
      "cell_type": "code",
      "source": [
        "# format 매서드드 \n",
        "print (' my name is {}'. format ('jiyun'))"
      ],
      "metadata": {
        "colab": {
          "base_uri": "https://localhost:8080/"
        },
        "id": "G2lmwKWfwuVc",
        "outputId": "97f39266-ef68-49fb-891e-1522c5c90b70"
      },
      "execution_count": 53,
      "outputs": [
        {
          "output_type": "stream",
          "name": "stdout",
          "text": [
            " my name is jiyun\n"
          ]
        }
      ]
    },
    {
      "cell_type": "code",
      "source": [
        "print (' my name is {name}' . format (name = 'jiyun'))"
      ],
      "metadata": {
        "colab": {
          "base_uri": "https://localhost:8080/"
        },
        "id": "FYZ3SAKowxb_",
        "outputId": "ac93a9c9-293b-407e-adce-5d8d98c5b8cd"
      },
      "execution_count": 54,
      "outputs": [
        {
          "output_type": "stream",
          "name": "stdout",
          "text": [
            " my name is jiyun\n"
          ]
        }
      ]
    },
    {
      "cell_type": "code",
      "source": [
        "print (' my name is {}. Im {} years old.' . format ('jiyun',20)) # 순서서 "
      ],
      "metadata": {
        "colab": {
          "base_uri": "https://localhost:8080/"
        },
        "id": "nYQcMglJxTpH",
        "outputId": "43b0cb0f-b166-4ab0-b8a7-509c45dff193"
      },
      "execution_count": 56,
      "outputs": [
        {
          "output_type": "stream",
          "name": "stdout",
          "text": [
            " my name is jiyun. Im 20 years old.\n"
          ]
        }
      ]
    },
    {
      "cell_type": "code",
      "source": [
        "print ('my name is {name}. im {age} years old.'. format (name = 'jiyun', age = 20))"
      ],
      "metadata": {
        "colab": {
          "base_uri": "https://localhost:8080/"
        },
        "id": "LkaNhL--xrtm",
        "outputId": "46058ad6-280c-4c31-a4a2-d552ece7d417"
      },
      "execution_count": 58,
      "outputs": [
        {
          "output_type": "stream",
          "name": "stdout",
          "text": [
            "my name is jiyun. im 20 years old.\n"
          ]
        }
      ]
    },
    {
      "cell_type": "code",
      "source": [
        "print ('%s' %'신지윤')"
      ],
      "metadata": {
        "colab": {
          "base_uri": "https://localhost:8080/"
        },
        "id": "Nz8BCA_RqjLk",
        "outputId": "eaac15fa-aa08-48b8-b852-402bc4b98b53"
      },
      "execution_count": 36,
      "outputs": [
        {
          "output_type": "stream",
          "name": "stdout",
          "text": [
            "신지윤\n"
          ]
        }
      ]
    }
  ]
}