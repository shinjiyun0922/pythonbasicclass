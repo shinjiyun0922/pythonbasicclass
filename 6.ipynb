{
  "nbformat": 4,
  "nbformat_minor": 0,
  "metadata": {
    "colab": {
      "name": "6",
      "provenance": [],
      "authorship_tag": "ABX9TyNxcfOTh/QdRZjqAbIWN5y4",
      "include_colab_link": true
    },
    "kernelspec": {
      "name": "python3",
      "display_name": "Python 3"
    },
    "language_info": {
      "name": "python"
    }
  },
  "cells": [
    {
      "cell_type": "markdown",
      "metadata": {
        "id": "view-in-github",
        "colab_type": "text"
      },
      "source": [
        "<a href=\"https://colab.research.google.com/github/shinjiyun0922/pythonbasicclass/blob/main/6.ipynb\" target=\"_parent\"><img src=\"https://colab.research.google.com/assets/colab-badge.svg\" alt=\"Open In Colab\"/></a>"
      ]
    },
    {
      "cell_type": "code",
      "execution_count": null,
      "metadata": {
        "colab": {
          "base_uri": "https://localhost:8080/"
        },
        "id": "ZQ9uzFsyx1Dk",
        "outputId": "40986f90-2159-47d4-d478-25cbf099780a"
      },
      "outputs": [
        {
          "output_type": "stream",
          "name": "stdout",
          "text": [
            "1\n",
            "2\n",
            "3\n"
          ]
        }
      ],
      "source": [
        "# for 반복문, 주로 반복횟수를 명확히 알고 있을 때 사용 \n",
        "# for 변서 in 반복객체:\n",
        "# 반복실행 \n",
        "\n",
        "for i in [1,2,3]:\n",
        "  print(i)"
      ]
    },
    {
      "cell_type": "code",
      "source": [
        "for i in 'hello':\n",
        "  print(i)\n",
        "  "
      ],
      "metadata": {
        "colab": {
          "base_uri": "https://localhost:8080/"
        },
        "id": "XvOWUR5dzRF0",
        "outputId": "7b6f3db5-037e-4af1-949f-e4f4c58c85ad"
      },
      "execution_count": null,
      "outputs": [
        {
          "output_type": "stream",
          "name": "stdout",
          "text": [
            "h\n",
            "e\n",
            "l\n",
            "l\n",
            "o\n"
          ]
        }
      ]
    },
    {
      "cell_type": "code",
      "source": [
        "for jiyun in ['가위','바위','보']:\n",
        "  print(jiyun)"
      ],
      "metadata": {
        "colab": {
          "base_uri": "https://localhost:8080/"
        },
        "id": "hP8RoBBOzp-s",
        "outputId": "2d96d578-2746-41a6-a250-69549afd5319"
      },
      "execution_count": null,
      "outputs": [
        {
          "output_type": "stream",
          "name": "stdout",
          "text": [
            "가위\n",
            "바위\n",
            "보\n"
          ]
        }
      ]
    },
    {
      "cell_type": "code",
      "source": [
        "# 리스트 내포 : for 문을 이용해서 리스트를 간단히 생성한다. \n",
        "[n*2  for n in [1,2,3]]\n"
      ],
      "metadata": {
        "colab": {
          "base_uri": "https://localhost:8080/"
        },
        "id": "wg2JR3RH0D_v",
        "outputId": "c30893c3-577c-4dee-e0d1-55b04eb4c493"
      },
      "execution_count": null,
      "outputs": [
        {
          "output_type": "execute_result",
          "data": {
            "text/plain": [
              "[2, 4, 6]"
            ]
          },
          "metadata": {},
          "execution_count": 8
        }
      ]
    },
    {
      "cell_type": "code",
      "source": [
        "[n*2. for n in [1,2,3,4,5]  if n%2==1] # 순서 가운데, 뒤, 앞 "
      ],
      "metadata": {
        "colab": {
          "base_uri": "https://localhost:8080/"
        },
        "id": "e7lFaI_n0700",
        "outputId": "94060c4b-22d3-4d4e-f38d-21c4efba68e0"
      },
      "execution_count": null,
      "outputs": [
        {
          "output_type": "execute_result",
          "data": {
            "text/plain": [
              "[2.0, 6.0, 10.0]"
            ]
          },
          "metadata": {},
          "execution_count": 9
        }
      ]
    },
    {
      "cell_type": "code",
      "source": [
        "four_seasons=('spring','summer','fall','winter')\n",
        "for season in four_seasons:\n",
        "  print(season)"
      ],
      "metadata": {
        "colab": {
          "base_uri": "https://localhost:8080/"
        },
        "id": "gznUvlI-1u2W",
        "outputId": "2afe0fbe-4f2b-4b37-9e37-4c0cb8cacada"
      },
      "execution_count": null,
      "outputs": [
        {
          "output_type": "stream",
          "name": "stdout",
          "text": [
            "spring\n",
            "summer\n",
            "fall\n",
            "winter\n"
          ]
        }
      ]
    },
    {
      "cell_type": "code",
      "source": [
        "#range()\n",
        "#정수 범위를 만들어 낼때 유요한 아주 많이 for문과 사용됨 \n",
        "#range(start, stop, step) # start(0 부터),step(1 씩 증가 )\n",
        "print(list(range(5))) # start 생략, step 생략 0,1,2,3,4 0부터 5미만 \n",
        "print(list(range(1,11)))# step만 생략 1부터 11미만 \n",
        "print(tuple(range(5)))"
      ],
      "metadata": {
        "colab": {
          "base_uri": "https://localhost:8080/"
        },
        "id": "mTJxZlO32EmC",
        "outputId": "1d3ea43f-4684-44fa-e9ad-8181b6543c19"
      },
      "execution_count": null,
      "outputs": [
        {
          "output_type": "stream",
          "name": "stdout",
          "text": [
            "[0, 1, 2, 3, 4]\n",
            "[1, 2, 3, 4, 5, 6, 7, 8, 9, 10]\n",
            "(0, 1, 2, 3, 4)\n"
          ]
        }
      ]
    },
    {
      "cell_type": "code",
      "source": [
        "for i in range(5):\n",
        "  print(i)"
      ],
      "metadata": {
        "colab": {
          "base_uri": "https://localhost:8080/"
        },
        "id": "KSoRl6jd3eBn",
        "outputId": "c23c8c4c-e493-41d9-8d69-a97f8fd95cba"
      },
      "execution_count": null,
      "outputs": [
        {
          "output_type": "stream",
          "name": "stdout",
          "text": [
            "0\n",
            "1\n",
            "2\n",
            "3\n",
            "4\n"
          ]
        }
      ]
    },
    {
      "cell_type": "code",
      "source": [
        "for i in range(1,11,+1):\n",
        "  print(i)"
      ],
      "metadata": {
        "colab": {
          "base_uri": "https://localhost:8080/"
        },
        "id": "4G7u6dfJ3m2p",
        "outputId": "56a3069e-325b-4ce2-a9f3-956452ba5f47"
      },
      "execution_count": null,
      "outputs": [
        {
          "output_type": "stream",
          "name": "stdout",
          "text": [
            "1\n",
            "2\n",
            "3\n",
            "4\n",
            "5\n",
            "6\n",
            "7\n",
            "8\n",
            "9\n",
            "10\n"
          ]
        }
      ]
    },
    {
      "cell_type": "code",
      "source": [
        "for i in range(1,11):  # i는 그냥 반복시키기 위해서\n",
        "  print('hi')"
      ],
      "metadata": {
        "colab": {
          "base_uri": "https://localhost:8080/"
        },
        "id": "gUJsmbqG3uOs",
        "outputId": "ad3809de-1533-4852-f88c-c426e047ee7c"
      },
      "execution_count": null,
      "outputs": [
        {
          "output_type": "stream",
          "name": "stdout",
          "text": [
            "hi\n",
            "hi\n",
            "hi\n",
            "hi\n",
            "hi\n",
            "hi\n",
            "hi\n",
            "hi\n",
            "hi\n",
            "hi\n"
          ]
        }
      ]
    },
    {
      "cell_type": "code",
      "source": [
        "# 비시퀀스 \n",
        "for item in {'가위', '바위','보'}:\n",
        "  print(item)"
      ],
      "metadata": {
        "colab": {
          "base_uri": "https://localhost:8080/"
        },
        "id": "rCwQybSf4beu",
        "outputId": "d71d9fe4-afc5-4596-8421-77d63b175d87"
      },
      "execution_count": null,
      "outputs": [
        {
          "output_type": "stream",
          "name": "stdout",
          "text": [
            "바위\n",
            "가위\n",
            "보\n"
          ]
        }
      ]
    },
    {
      "cell_type": "code",
      "source": [
        "person={'name':'에밀리',\n",
        "        'age': 20\n",
        "    \n",
        "}\n",
        "for item in person:\n",
        "  print(item, person[item])"
      ],
      "metadata": {
        "colab": {
          "base_uri": "https://localhost:8080/"
        },
        "id": "TmIGC6vs41Ef",
        "outputId": "0a63769a-78ad-4be7-fc98-68a714660b76"
      },
      "execution_count": null,
      "outputs": [
        {
          "output_type": "stream",
          "name": "stdout",
          "text": [
            "name 에밀리\n",
            "age 20\n"
          ]
        }
      ]
    },
    {
      "cell_type": "code",
      "source": [
        "for i in range(5,0,-1):\n",
        "  print (i)"
      ],
      "metadata": {
        "colab": {
          "base_uri": "https://localhost:8080/"
        },
        "id": "P21LwYij5jFQ",
        "outputId": "62f2466b-4500-4699-e4c7-0f44f66322c1"
      },
      "execution_count": null,
      "outputs": [
        {
          "output_type": "stream",
          "name": "stdout",
          "text": [
            "5\n",
            "4\n",
            "3\n",
            "2\n",
            "1\n"
          ]
        }
      ]
    },
    {
      "cell_type": "code",
      "source": [
        "no=int(input('임의의 양수를 입력하세요:'))\n",
        "sum=0 # 초기값\n",
        "for i in range(1,no+1):\n",
        "  sum=sum+i        # sum += i \n",
        "print(f'1부터 {no}사이 모든 정수의 합계는 {sum}입니다.')\n"
      ],
      "metadata": {
        "colab": {
          "base_uri": "https://localhost:8080/"
        },
        "id": "aRn0tMzC6VGG",
        "outputId": "7ef66b63-6354-4c5e-c71d-ff23065dc048"
      },
      "execution_count": null,
      "outputs": [
        {
          "output_type": "stream",
          "name": "stdout",
          "text": [
            "임의의 양수를 입력하세요:89\n",
            "1부터 89사이 모든 정수의 합계는 4005입니다.\n"
          ]
        }
      ]
    },
    {
      "cell_type": "code",
      "source": [
        "no=int(input('몇 개의 과일을 보관할까요?:'))\n",
        "fruits=[]\n",
        "for i in range(1,no+1):\n",
        "  fruit=input(f'{i}번째 과일을 입력하세요:')\n",
        "  fruits.append(fruit)\n",
        "\n",
        "print(f'입력받은 과일들은 {fruits}입니다.')\n"
      ],
      "metadata": {
        "colab": {
          "base_uri": "https://localhost:8080/"
        },
        "id": "pnEo4-FM7m7-",
        "outputId": "eef34ab0-636b-4f6e-cc42-a4fe4f16eb3b"
      },
      "execution_count": null,
      "outputs": [
        {
          "output_type": "stream",
          "name": "stdout",
          "text": [
            "몇 개의 과일을 보관할까요?:6\n",
            "1번째 과일을 입력하세요:포도\n",
            "2번째 과일을 입력하세요:사과\n",
            "3번째 과일을 입력하세요:딸기\n",
            "4번째 과일을 입력하세요:오렌지\n",
            "5번째 과일을 입력하세요:배\n",
            "6번째 과일을 입력하세요:감\n",
            "입력받은 과일들은 ['포도', '사과', '딸기', '오렌지', '배', '감']입니다.\n"
          ]
        }
      ]
    },
    {
      "cell_type": "code",
      "source": [
        "exam=[99,78,100,91,81,85,54,100,71,50]\n",
        "exam2=[]\n",
        "for i in exam: \n",
        "  if i >=95:\n",
        "    exam2.append(100)\n",
        "  else:\n",
        "      exam2.append(i+5)\n",
        "print(exam2)\n",
        "\n",
        "  "
      ],
      "metadata": {
        "colab": {
          "base_uri": "https://localhost:8080/"
        },
        "id": "YLsUzYmxCzOm",
        "outputId": "9457c7f5-0ec1-44f9-9fe5-ceb470e2b0c2"
      },
      "execution_count": null,
      "outputs": [
        {
          "output_type": "stream",
          "name": "stdout",
          "text": [
            "[100, 83, 100, 96, 86, 90, 59, 100, 76, 55]\n"
          ]
        }
      ]
    },
    {
      "cell_type": "code",
      "source": [
        "# break \n",
        "# while 문이나 for 문에서 반복을 강제로 종료시킬 때 사용 \n",
        "# while 과 많이 씀 \n",
        "\n",
        "n=1\n",
        "while n<= 10:\n",
        "  print(n)\n",
        "  n += 1"
      ],
      "metadata": {
        "colab": {
          "base_uri": "https://localhost:8080/"
        },
        "id": "97XuYETEECJc",
        "outputId": "69bb35a0-9295-423b-cb69-676583741674"
      },
      "execution_count": null,
      "outputs": [
        {
          "output_type": "stream",
          "name": "stdout",
          "text": [
            "1\n",
            "2\n",
            "3\n",
            "4\n",
            "5\n",
            "6\n",
            "7\n",
            "8\n",
            "9\n",
            "10\n"
          ]
        }
      ]
    },
    {
      "cell_type": "code",
      "source": [
        "n=1\n",
        "while True:\n",
        "  print(n)\n",
        "  if n==10:\n",
        "    break\n",
        "  n += 1"
      ],
      "metadata": {
        "colab": {
          "base_uri": "https://localhost:8080/"
        },
        "id": "82E6U_sPEzAB",
        "outputId": "0eb5aa76-876a-4db4-aca8-c9ac0be61a41"
      },
      "execution_count": null,
      "outputs": [
        {
          "output_type": "stream",
          "name": "stdout",
          "text": [
            "1\n",
            "2\n",
            "3\n",
            "4\n",
            "5\n",
            "6\n",
            "7\n",
            "8\n",
            "9\n",
            "10\n"
          ]
        }
      ]
    },
    {
      "cell_type": "code",
      "source": [
        "#continue\n",
        "#반복 도중에 continue를 만나면 더 이상 아래로 내려가지 않고 다시 반복문으로 진입 \n",
        "\n",
        "total=0\n",
        "for a in range(1,101):\n",
        "  if a % 3 ==0: \n",
        "    continue\n",
        "  total += a\n",
        "print(total)"
      ],
      "metadata": {
        "colab": {
          "base_uri": "https://localhost:8080/"
        },
        "id": "cvNkeCrvFjC7",
        "outputId": "6ed0b9e5-5bdb-422c-ec6b-78e5f4a691f0"
      },
      "execution_count": null,
      "outputs": [
        {
          "output_type": "stream",
          "name": "stdout",
          "text": [
            "3367\n"
          ]
        }
      ]
    },
    {
      "cell_type": "code",
      "source": [
        "cash=10000\n",
        "\n",
        "while True:\n",
        "  print(f'현재 {cash}원이 있습니다.')\n",
        "  if cash==0:\n",
        "    break\n",
        "  pay= int(input('사용할 금액입력 :'))\n",
        "  if pay <=0:\n",
        "    print('0이하의 금액은 사용할 수 없습니다.')\n",
        "  elif pay > cash:\n",
        "    print(f'{pay-cash}원이 부족합니다.')\n",
        "  else:\n",
        "    cash-=pay # cash = cash-pay"
      ],
      "metadata": {
        "id": "UYAQJox4GbDh",
        "colab": {
          "base_uri": "https://localhost:8080/"
        },
        "outputId": "5c614a0b-fece-4e22-deca-79a23351727d"
      },
      "execution_count": null,
      "outputs": [
        {
          "metadata": {
            "tags": null
          },
          "name": "stdout",
          "output_type": "stream",
          "text": [
            "현재 10000원이 있습니다.\n",
            "현재 9988원이 있습니다.\n",
            "현재 8647원이 있습니다.\n",
            "현재 6627원이 있습니다.\n"
          ]
        }
      ]
    },
    {
      "cell_type": "code",
      "source": [
        "while True:\n",
        "  score=int(input('이번 영화의 평점을 입력하세요:'))\n",
        "\n",
        "  if score >= 1 and score <= 5:\n",
        "   print(f'평점: {score* \" # \"}')\n",
        "   break \n",
        "  else:\n",
        "  print('평점은 1~5 사이만 입력할 수 있습니다.')"
      ],
      "metadata": {
        "id": "YQs2UBb5PpSV"
      },
      "execution_count": null,
      "outputs": []
    },
    {
      "cell_type": "code",
      "source": [
        "password= 'qwerty'\n",
        "tryno=0\n",
        "while True: \n",
        "  if tryno == 5:\n",
        "    print('비밀번호 입력 횟수를 초과했습니다.')\n",
        "    break\n",
        "  inpass= input('비밀번호를 입력하세요:')\n",
        "  if password == inpass:\n",
        "    print('비밀번호를 맞혔습니다.')\n",
        "    break\n",
        "  tryno += 1 \n"
      ],
      "metadata": {
        "id": "nXU19X4DSbLx"
      },
      "execution_count": null,
      "outputs": []
    },
    {
      "cell_type": "code",
      "source": [
        "for i in range(2,10):\n",
        "  for j in range(1,10):\n",
        "    print(f'{i}*{j}={i*j}')"
      ],
      "metadata": {
        "id": "z3wryxWzT37E"
      },
      "execution_count": null,
      "outputs": []
    },
    {
      "cell_type": "code",
      "source": [
        "for i in range(2,10):\n",
        "  if i % 2 == 0:\n",
        "    continue\n",
        "  for j in range(1,10):\n",
        "    if i<j:\n",
        "      break\n",
        "    print(f'{i}*{j}={i*j}')\n",
        "  print()"
      ],
      "metadata": {
        "id": "iFyXCWbrXJ-Y"
      },
      "execution_count": null,
      "outputs": []
    }
  ]
}